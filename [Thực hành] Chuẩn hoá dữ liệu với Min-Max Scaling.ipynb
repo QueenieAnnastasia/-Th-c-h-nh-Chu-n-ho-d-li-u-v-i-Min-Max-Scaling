{
 "cells": [
  {
   "cell_type": "markdown",
   "id": "687d03b1",
   "metadata": {},
   "source": [
    "### 1. Khai báo thư viện người dùng"
   ]
  },
  {
   "cell_type": "code",
   "execution_count": 7,
   "id": "664bfe9a",
   "metadata": {},
   "outputs": [],
   "source": [
    "import pandas as pd\n",
    "import numpy as np\n",
    "import matplotlib.pyplot as plt\n",
    "import seaborn as sns\n",
    "from sklearn.preprocessing import MinMaxScaler"
   ]
  },
  {
   "cell_type": "markdown",
   "id": "8b96f3ac",
   "metadata": {},
   "source": [
    "### 2. Khởi tạo dữ liệu"
   ]
  },
  {
   "cell_type": "code",
   "execution_count": 8,
   "id": "3859d298",
   "metadata": {},
   "outputs": [],
   "source": [
    "# tạo các cột theo các phần phối khác nhau\n",
    "df = pd.DataFrame({ \n",
    "    'beta': np.random.beta(5, 1, 1000) * 60,        # beta\n",
    "    'exponential': np.random.exponential(10, 1000), # exponential\n",
    "    'normal_p': np.random.normal(10, 2, 1000),      # normal platykurtic\n",
    "    'normal_l': np.random.normal(10, 10, 1000),     # normal leptokurtic\n",
    "})"
   ]
  },
  {
   "cell_type": "code",
   "execution_count": 9,
   "id": "d7daca4d",
   "metadata": {},
   "outputs": [],
   "source": [
    "# thêm dữ liệu được tạo theo phân phối nhị thức\n",
    "first_half = np.random.normal(20, 3, 500) \n",
    "second_half = np.random.normal(-20, 3, 500) \n",
    "bimodal = np.concatenate([first_half, second_half])\n",
    "\n",
    "df['bimodal'] = bimodal"
   ]
  },
  {
   "cell_type": "code",
   "execution_count": 10,
   "id": "c9339d6a",
   "metadata": {},
   "outputs": [
    {
     "data": {
      "text/html": [
       "<div>\n",
       "<style scoped>\n",
       "    .dataframe tbody tr th:only-of-type {\n",
       "        vertical-align: middle;\n",
       "    }\n",
       "\n",
       "    .dataframe tbody tr th {\n",
       "        vertical-align: top;\n",
       "    }\n",
       "\n",
       "    .dataframe thead th {\n",
       "        text-align: right;\n",
       "    }\n",
       "</style>\n",
       "<table border=\"1\" class=\"dataframe\">\n",
       "  <thead>\n",
       "    <tr style=\"text-align: right;\">\n",
       "      <th></th>\n",
       "      <th>beta</th>\n",
       "      <th>exponential</th>\n",
       "      <th>normal_p</th>\n",
       "      <th>normal_l</th>\n",
       "      <th>bimodal</th>\n",
       "    </tr>\n",
       "  </thead>\n",
       "  <tbody>\n",
       "    <tr>\n",
       "      <th>0</th>\n",
       "      <td>44.448335</td>\n",
       "      <td>19.023416</td>\n",
       "      <td>8.809050</td>\n",
       "      <td>6.267018</td>\n",
       "      <td>23.719141</td>\n",
       "    </tr>\n",
       "    <tr>\n",
       "      <th>1</th>\n",
       "      <td>54.966806</td>\n",
       "      <td>8.085940</td>\n",
       "      <td>11.191175</td>\n",
       "      <td>18.728819</td>\n",
       "      <td>20.919044</td>\n",
       "    </tr>\n",
       "    <tr>\n",
       "      <th>2</th>\n",
       "      <td>43.026616</td>\n",
       "      <td>18.373016</td>\n",
       "      <td>9.824707</td>\n",
       "      <td>9.477856</td>\n",
       "      <td>20.275992</td>\n",
       "    </tr>\n",
       "    <tr>\n",
       "      <th>3</th>\n",
       "      <td>49.764465</td>\n",
       "      <td>6.591240</td>\n",
       "      <td>8.224314</td>\n",
       "      <td>24.782232</td>\n",
       "      <td>21.992008</td>\n",
       "    </tr>\n",
       "    <tr>\n",
       "      <th>4</th>\n",
       "      <td>48.943483</td>\n",
       "      <td>9.399923</td>\n",
       "      <td>12.529265</td>\n",
       "      <td>14.554783</td>\n",
       "      <td>21.732612</td>\n",
       "    </tr>\n",
       "  </tbody>\n",
       "</table>\n",
       "</div>"
      ],
      "text/plain": [
       "        beta  exponential   normal_p   normal_l    bimodal\n",
       "0  44.448335    19.023416   8.809050   6.267018  23.719141\n",
       "1  54.966806     8.085940  11.191175  18.728819  20.919044\n",
       "2  43.026616    18.373016   9.824707   9.477856  20.275992\n",
       "3  49.764465     6.591240   8.224314  24.782232  21.992008\n",
       "4  48.943483     9.399923  12.529265  14.554783  21.732612"
      ]
     },
     "execution_count": 10,
     "metadata": {},
     "output_type": "execute_result"
    }
   ],
   "source": [
    "# hiển thị dữ liệu\n",
    "df.head()"
   ]
  },
  {
   "cell_type": "markdown",
   "id": "56c624e5",
   "metadata": {},
   "source": [
    "### 3. Trực quan hoá dữ liệu sinh ra"
   ]
  },
  {
   "cell_type": "code",
   "execution_count": 11,
   "id": "7a00e7f6",
   "metadata": {},
   "outputs": [
    {
     "data": {
      "text/plain": [
       "<AxesSubplot:ylabel='Density'>"
      ]
     },
     "execution_count": 11,
     "metadata": {},
     "output_type": "execute_result"
    },
    {
     "data": {
      "image/png": "[encoded data removed]",
      "text/plain": [
       "<Figure size 432x288 with 1 Axes>"
      ]
     },
     "metadata": {
      "needs_background": "light"
     },
     "output_type": "display_data"
    }
   ],
   "source": [
    "sns.kdeplot(data=df)\n"
   ]
  },
  {
   "cell_type": "markdown",
   "id": "b76856cf",
   "metadata": {},
   "source": [
    "### 4. Hiển thị thống kê về dữ liệu sinh ra"
   ]
  },
  {
   "cell_type": "code",
   "execution_count": 12,
   "id": "43399af3",
   "metadata": {},
   "outputs": [
    {
     "data": {
      "text/html": [
       "<div>\n",
       "<style scoped>\n",
       "    .dataframe tbody tr th:only-of-type {\n",
       "        vertical-align: middle;\n",
       "    }\n",
       "\n",
       "    .dataframe tbody tr th {\n",
       "        vertical-align: top;\n",
       "    }\n",
       "\n",
       "    .dataframe thead th {\n",
       "        text-align: right;\n",
       "    }\n",
       "</style>\n",
       "<table border=\"1\" class=\"dataframe\">\n",
       "  <thead>\n",
       "    <tr style=\"text-align: right;\">\n",
       "      <th></th>\n",
       "      <th>beta</th>\n",
       "      <th>exponential</th>\n",
       "      <th>normal_p</th>\n",
       "      <th>normal_l</th>\n",
       "      <th>bimodal</th>\n",
       "    </tr>\n",
       "  </thead>\n",
       "  <tbody>\n",
       "    <tr>\n",
       "      <th>count</th>\n",
       "      <td>1000.000000</td>\n",
       "      <td>1000.000000</td>\n",
       "      <td>1000.000000</td>\n",
       "      <td>1000.000000</td>\n",
       "      <td>1000.000000</td>\n",
       "    </tr>\n",
       "    <tr>\n",
       "      <th>mean</th>\n",
       "      <td>50.183289</td>\n",
       "      <td>10.338309</td>\n",
       "      <td>10.137551</td>\n",
       "      <td>10.080837</td>\n",
       "      <td>-0.026780</td>\n",
       "    </tr>\n",
       "    <tr>\n",
       "      <th>std</th>\n",
       "      <td>8.060340</td>\n",
       "      <td>10.491443</td>\n",
       "      <td>2.051979</td>\n",
       "      <td>10.188299</td>\n",
       "      <td>20.128723</td>\n",
       "    </tr>\n",
       "    <tr>\n",
       "      <th>min</th>\n",
       "      <td>12.770309</td>\n",
       "      <td>0.000212</td>\n",
       "      <td>3.630309</td>\n",
       "      <td>-23.376233</td>\n",
       "      <td>-29.187764</td>\n",
       "    </tr>\n",
       "    <tr>\n",
       "      <th>25%</th>\n",
       "      <td>46.031047</td>\n",
       "      <td>2.973465</td>\n",
       "      <td>8.714011</td>\n",
       "      <td>3.639587</td>\n",
       "      <td>-20.034298</td>\n",
       "    </tr>\n",
       "    <tr>\n",
       "      <th>50%</th>\n",
       "      <td>52.198054</td>\n",
       "      <td>7.009308</td>\n",
       "      <td>10.051917</td>\n",
       "      <td>10.208496</td>\n",
       "      <td>0.186333</td>\n",
       "    </tr>\n",
       "    <tr>\n",
       "      <th>75%</th>\n",
       "      <td>56.359716</td>\n",
       "      <td>14.253915</td>\n",
       "      <td>11.519996</td>\n",
       "      <td>16.864520</td>\n",
       "      <td>19.936190</td>\n",
       "    </tr>\n",
       "    <tr>\n",
       "      <th>max</th>\n",
       "      <td>59.992529</td>\n",
       "      <td>69.023118</td>\n",
       "      <td>16.117918</td>\n",
       "      <td>51.391785</td>\n",
       "      <td>29.425723</td>\n",
       "    </tr>\n",
       "  </tbody>\n",
       "</table>\n",
       "</div>"
      ],
      "text/plain": [
       "              beta  exponential     normal_p     normal_l      bimodal\n",
       "count  1000.000000  1000.000000  1000.000000  1000.000000  1000.000000\n",
       "mean     50.183289    10.338309    10.137551    10.080837    -0.026780\n",
       "std       8.060340    10.491443     2.051979    10.188299    20.128723\n",
       "min      12.770309     0.000212     3.630309   -23.376233   -29.187764\n",
       "25%      46.031047     2.973465     8.714011     3.639587   -20.034298\n",
       "50%      52.198054     7.009308    10.051917    10.208496     0.186333\n",
       "75%      56.359716    14.253915    11.519996    16.864520    19.936190\n",
       "max      59.992529    69.023118    16.117918    51.391785    29.425723"
      ]
     },
     "execution_count": 12,
     "metadata": {},
     "output_type": "execute_result"
    }
   ],
   "source": [
    "df.describe()\n"
   ]
  },
  {
   "cell_type": "markdown",
   "id": "568ddf2b",
   "metadata": {},
   "source": [
    "### 5. Thêm một đặc trưng với giá trị lớn hơn nhiều"
   ]
  },
  {
   "cell_type": "code",
   "execution_count": 13,
   "id": "97eb65eb",
   "metadata": {},
   "outputs": [
    {
     "data": {
      "text/plain": [
       "<AxesSubplot:ylabel='Density'>"
      ]
     },
     "execution_count": 13,
     "metadata": {},
     "output_type": "execute_result"
    },
    {
     "data": {
      "image/png": "[encoded data removed]",
      "text/plain": [
       "<Figure size 432x288 with 1 Axes>"
      ]
     },
     "metadata": {
      "needs_background": "light"
     },
     "output_type": "display_data"
    }
   ],
   "source": [
    "normal_big = np.random.normal(1000000, 10000, (1000,1))  # normal distribution of large values\n",
    "df['normal_big'] = normal_big\n",
    "sns.kdeplot(data=df)"
   ]
  },
  {
   "cell_type": "code",
   "execution_count": 14,
   "id": "4d70a82f",
   "metadata": {},
   "outputs": [
    {
     "data": {
      "text/plain": [
       "<AxesSubplot:>"
      ]
     },
     "execution_count": 14,
     "metadata": {},
     "output_type": "execute_result"
    },
    {
     "data": {
      "image/png": "[encoded data removed]",
      "text/plain": [
       "<Figure size 432x288 with 1 Axes>"
      ]
     },
     "metadata": {
      "needs_background": "light"
     },
     "output_type": "display_data"
    }
   ],
   "source": [
    "# trực quan hóa bằng biểu đồ box plot\n",
    "df.boxplot()"
   ]
  },
  {
   "cell_type": "markdown",
   "id": "d17e3b78",
   "metadata": {},
   "source": [
    "### 6. Chuẩn hoá với Min-Max scaling"
   ]
  },
  {
   "cell_type": "code",
   "execution_count": 15,
   "id": "71318cf7",
   "metadata": {},
   "outputs": [],
   "source": [
    "# Khai báo đối tượng MinMaxScaler\n",
    "scaler = MinMaxScaler()"
   ]
  },
  {
   "cell_type": "code",
   "execution_count": 16,
   "id": "6fa53877",
   "metadata": {},
   "outputs": [],
   "source": [
    "# Chuẩn hóa dữ liệu trong df với StandardScaler\n",
    "df_s = scaler.fit_transform(df)\n",
    "\n",
    "# lấy danh sáchc cột\n",
    "col_names = list(df.columns)\n",
    "\n",
    "# chuyển về DataFrame, gán các cột của df cho dữ liệu đã được chuẩn hóa\n",
    "df_s = pd.DataFrame(df_s, columns=col_names)"
   ]
  },
  {
   "cell_type": "code",
   "execution_count": 17,
   "id": "4fd0da2c",
   "metadata": {},
   "outputs": [
    {
     "data": {
      "text/html": [
       "<div>\n",
       "<style scoped>\n",
       "    .dataframe tbody tr th:only-of-type {\n",
       "        vertical-align: middle;\n",
       "    }\n",
       "\n",
       "    .dataframe tbody tr th {\n",
       "        vertical-align: top;\n",
       "    }\n",
       "\n",
       "    .dataframe thead th {\n",
       "        text-align: right;\n",
       "    }\n",
       "</style>\n",
       "<table border=\"1\" class=\"dataframe\">\n",
       "  <thead>\n",
       "    <tr style=\"text-align: right;\">\n",
       "      <th></th>\n",
       "      <th>beta</th>\n",
       "      <th>exponential</th>\n",
       "      <th>normal_p</th>\n",
       "      <th>normal_l</th>\n",
       "      <th>bimodal</th>\n",
       "      <th>normal_big</th>\n",
       "    </tr>\n",
       "  </thead>\n",
       "  <tbody>\n",
       "    <tr>\n",
       "      <th>0</th>\n",
       "      <td>0.670829</td>\n",
       "      <td>0.275607</td>\n",
       "      <td>0.414710</td>\n",
       "      <td>0.396470</td>\n",
       "      <td>0.902640</td>\n",
       "      <td>0.342011</td>\n",
       "    </tr>\n",
       "    <tr>\n",
       "      <th>1</th>\n",
       "      <td>0.893573</td>\n",
       "      <td>0.117146</td>\n",
       "      <td>0.605469</td>\n",
       "      <td>0.563143</td>\n",
       "      <td>0.854868</td>\n",
       "      <td>0.681683</td>\n",
       "    </tr>\n",
       "    <tr>\n",
       "      <th>2</th>\n",
       "      <td>0.640722</td>\n",
       "      <td>0.266184</td>\n",
       "      <td>0.496044</td>\n",
       "      <td>0.439414</td>\n",
       "      <td>0.843897</td>\n",
       "      <td>0.468592</td>\n",
       "    </tr>\n",
       "    <tr>\n",
       "      <th>3</th>\n",
       "      <td>0.783406</td>\n",
       "      <td>0.095490</td>\n",
       "      <td>0.367885</td>\n",
       "      <td>0.644105</td>\n",
       "      <td>0.873174</td>\n",
       "      <td>0.307144</td>\n",
       "    </tr>\n",
       "    <tr>\n",
       "      <th>4</th>\n",
       "      <td>0.766020</td>\n",
       "      <td>0.136182</td>\n",
       "      <td>0.712623</td>\n",
       "      <td>0.507316</td>\n",
       "      <td>0.868748</td>\n",
       "      <td>0.331884</td>\n",
       "    </tr>\n",
       "  </tbody>\n",
       "</table>\n",
       "</div>"
      ],
      "text/plain": [
       "       beta  exponential  normal_p  normal_l   bimodal  normal_big\n",
       "0  0.670829     0.275607  0.414710  0.396470  0.902640    0.342011\n",
       "1  0.893573     0.117146  0.605469  0.563143  0.854868    0.681683\n",
       "2  0.640722     0.266184  0.496044  0.439414  0.843897    0.468592\n",
       "3  0.783406     0.095490  0.367885  0.644105  0.873174    0.307144\n",
       "4  0.766020     0.136182  0.712623  0.507316  0.868748    0.331884"
      ]
     },
     "execution_count": 17,
     "metadata": {},
     "output_type": "execute_result"
    }
   ],
   "source": [
    "df_s.head()\n"
   ]
  },
  {
   "cell_type": "code",
   "execution_count": 18,
   "id": "164fecfc",
   "metadata": {},
   "outputs": [
    {
     "data": {
      "text/plain": [
       "<AxesSubplot:ylabel='Density'>"
      ]
     },
     "execution_count": 18,
     "metadata": {},
     "output_type": "execute_result"
    },
    {
     "data": {
      "image/png": "[encoded data removed]",
      "text/plain": [
       "<Figure size 432x288 with 1 Axes>"
      ]
     },
     "metadata": {
      "needs_background": "light"
     },
     "output_type": "display_data"
    }
   ],
   "source": [
    "# biểu diễn dữ liệu đã được chuẩn hóa\n",
    "sns.kdeplot(data=df_s)"
   ]
  },
  {
   "cell_type": "code",
   "execution_count": 19,
   "id": "cfdd7a4d",
   "metadata": {},
   "outputs": [
    {
     "data": {
      "text/plain": [
       "<AxesSubplot:>"
      ]
     },
     "execution_count": 19,
     "metadata": {},
     "output_type": "execute_result"
    },
    {
     "data": {
      "image/png": "[encoded data removed]",
      "text/plain": [
       "<Figure size 432x288 with 1 Axes>"
      ]
     },
     "metadata": {
      "needs_background": "light"
     },
     "output_type": "display_data"
    }
   ],
   "source": [
    "# trực quan hóa bằng biểu đồ box plot\n",
    "df_s.boxplot()"
   ]
  },
  {
   "cell_type": "code",
   "execution_count": 20,
   "id": "db55a6bb",
   "metadata": {},
   "outputs": [
    {
     "data": {
      "text/html": [
       "<div>\n",
       "<style scoped>\n",
       "    .dataframe tbody tr th:only-of-type {\n",
       "        vertical-align: middle;\n",
       "    }\n",
       "\n",
       "    .dataframe tbody tr th {\n",
       "        vertical-align: top;\n",
       "    }\n",
       "\n",
       "    .dataframe thead th {\n",
       "        text-align: right;\n",
       "    }\n",
       "</style>\n",
       "<table border=\"1\" class=\"dataframe\">\n",
       "  <thead>\n",
       "    <tr style=\"text-align: right;\">\n",
       "      <th></th>\n",
       "      <th>beta</th>\n",
       "      <th>exponential</th>\n",
       "      <th>normal_p</th>\n",
       "      <th>normal_l</th>\n",
       "      <th>bimodal</th>\n",
       "      <th>normal_big</th>\n",
       "    </tr>\n",
       "  </thead>\n",
       "  <tbody>\n",
       "    <tr>\n",
       "      <th>count</th>\n",
       "      <td>1000.000000</td>\n",
       "      <td>1000.000000</td>\n",
       "      <td>1000.000000</td>\n",
       "      <td>1000.000000</td>\n",
       "      <td>1000.000000</td>\n",
       "      <td>1000.000000</td>\n",
       "    </tr>\n",
       "    <tr>\n",
       "      <th>mean</th>\n",
       "      <td>0.792275</td>\n",
       "      <td>0.149778</td>\n",
       "      <td>0.521096</td>\n",
       "      <td>0.447478</td>\n",
       "      <td>0.497513</td>\n",
       "      <td>0.502658</td>\n",
       "    </tr>\n",
       "    <tr>\n",
       "      <th>std</th>\n",
       "      <td>0.170690</td>\n",
       "      <td>0.151999</td>\n",
       "      <td>0.164321</td>\n",
       "      <td>0.136265</td>\n",
       "      <td>0.343415</td>\n",
       "      <td>0.155928</td>\n",
       "    </tr>\n",
       "    <tr>\n",
       "      <th>min</th>\n",
       "      <td>0.000000</td>\n",
       "      <td>0.000000</td>\n",
       "      <td>0.000000</td>\n",
       "      <td>0.000000</td>\n",
       "      <td>0.000000</td>\n",
       "      <td>0.000000</td>\n",
       "    </tr>\n",
       "    <tr>\n",
       "      <th>25%</th>\n",
       "      <td>0.704345</td>\n",
       "      <td>0.043076</td>\n",
       "      <td>0.407100</td>\n",
       "      <td>0.361329</td>\n",
       "      <td>0.156167</td>\n",
       "      <td>0.395249</td>\n",
       "    </tr>\n",
       "    <tr>\n",
       "      <th>50%</th>\n",
       "      <td>0.834941</td>\n",
       "      <td>0.101547</td>\n",
       "      <td>0.514238</td>\n",
       "      <td>0.449186</td>\n",
       "      <td>0.501149</td>\n",
       "      <td>0.506004</td>\n",
       "    </tr>\n",
       "    <tr>\n",
       "      <th>75%</th>\n",
       "      <td>0.923070</td>\n",
       "      <td>0.206507</td>\n",
       "      <td>0.631801</td>\n",
       "      <td>0.538208</td>\n",
       "      <td>0.838100</td>\n",
       "      <td>0.610327</td>\n",
       "    </tr>\n",
       "    <tr>\n",
       "      <th>max</th>\n",
       "      <td>1.000000</td>\n",
       "      <td>1.000000</td>\n",
       "      <td>1.000000</td>\n",
       "      <td>1.000000</td>\n",
       "      <td>1.000000</td>\n",
       "      <td>1.000000</td>\n",
       "    </tr>\n",
       "  </tbody>\n",
       "</table>\n",
       "</div>"
      ],
      "text/plain": [
       "              beta  exponential     normal_p     normal_l      bimodal  \\\n",
       "count  1000.000000  1000.000000  1000.000000  1000.000000  1000.000000   \n",
       "mean      0.792275     0.149778     0.521096     0.447478     0.497513   \n",
       "std       0.170690     0.151999     0.164321     0.136265     0.343415   \n",
       "min       0.000000     0.000000     0.000000     0.000000     0.000000   \n",
       "25%       0.704345     0.043076     0.407100     0.361329     0.156167   \n",
       "50%       0.834941     0.101547     0.514238     0.449186     0.501149   \n",
       "75%       0.923070     0.206507     0.631801     0.538208     0.838100   \n",
       "max       1.000000     1.000000     1.000000     1.000000     1.000000   \n",
       "\n",
       "        normal_big  \n",
       "count  1000.000000  \n",
       "mean      0.502658  \n",
       "std       0.155928  \n",
       "min       0.000000  \n",
       "25%       0.395249  \n",
       "50%       0.506004  \n",
       "75%       0.610327  \n",
       "max       1.000000  "
      ]
     },
     "execution_count": 20,
     "metadata": {},
     "output_type": "execute_result"
    }
   ],
   "source": [
    "# thống kê về dữ liệu được sinh ra\n",
    "df_s.describe()"
   ]
  },
  {
   "cell_type": "code",
   "execution_count": 21,
   "id": "f576915a",
   "metadata": {},
   "outputs": [
    {
     "data": {
      "text/plain": [
       "0.0"
      ]
     },
     "execution_count": 21,
     "metadata": {},
     "output_type": "execute_result"
    }
   ],
   "source": [
    "# lấy giá trị min của cột beta\n",
    "df_s['beta'].min()\n"
   ]
  },
  {
   "cell_type": "code",
   "execution_count": 22,
   "id": "9ec0e705",
   "metadata": {},
   "outputs": [
    {
     "data": {
      "text/plain": [
       "1.0"
      ]
     },
     "execution_count": 22,
     "metadata": {},
     "output_type": "execute_result"
    }
   ],
   "source": [
    "# lấy giá trị max của cột beta\n",
    "df_s['beta'].max()"
   ]
  },
  {
   "cell_type": "code",
   "execution_count": 23,
   "id": "65fcac88",
   "metadata": {},
   "outputs": [
    {
     "data": {
      "text/plain": [
       "[12.770308964129525,\n",
       " 0.00021152453146221917,\n",
       " 3.630309487201174,\n",
       " -23.376232603281494,\n",
       " -29.187764196737504,\n",
       " 966987.2545278779]"
      ]
     },
     "execution_count": 23,
     "metadata": {},
     "output_type": "execute_result"
    }
   ],
   "source": [
    "# in các giá trị min của từng cột trong dữ liệu chưa chuẩn hóa\n",
    "mins = [df[col].min() for col in df.columns]\n",
    "mins"
   ]
  },
  {
   "cell_type": "code",
   "execution_count": 24,
   "id": "d4b7973c",
   "metadata": {},
   "outputs": [
    {
     "data": {
      "text/plain": [
       "[0.0, 0.0, 0.0, 0.0, 0.0, 0.0]"
      ]
     },
     "execution_count": 24,
     "metadata": {},
     "output_type": "execute_result"
    }
   ],
   "source": [
    "# in các giá trị min của từng cột trong dữ liệu đã chuẩn hóa\n",
    "mins = [df_s[col].min() for col in df_s.columns]\n",
    "mins"
   ]
  },
  {
   "cell_type": "code",
   "execution_count": 25,
   "id": "222c7b06",
   "metadata": {},
   "outputs": [
    {
     "data": {
      "text/plain": [
       "[59.99252867491962,\n",
       " 69.02311821748525,\n",
       " 16.11791776045169,\n",
       " 51.39178529337552,\n",
       " 29.42572314538529,\n",
       " 1032430.2940207925]"
      ]
     },
     "execution_count": 25,
     "metadata": {},
     "output_type": "execute_result"
    }
   ],
   "source": [
    "# in các giá trị max của từng cột dữ liệu chưa chuẩn hóa\n",
    "maxs = [df[col].max() for col in df.columns]\n",
    "maxs"
   ]
  },
  {
   "cell_type": "code",
   "execution_count": 26,
   "id": "aa982237",
   "metadata": {},
   "outputs": [
    {
     "data": {
      "text/plain": [
       "[1.0, 1.0, 0.9999999999999998, 1.0, 1.0, 1.0]"
      ]
     },
     "execution_count": 26,
     "metadata": {},
     "output_type": "execute_result"
    }
   ],
   "source": [
    "# in các giá trị max của từng cột dữ liệu đã chuẩn hóa\n",
    "maxs = [df_s[col].max() for col in df_s.columns]\n",
    "maxs"
   ]
  }
 ],
 "metadata": {
  "kernelspec": {
   "display_name": "Python 3 (ipykernel)",
   "language": "python",
   "name": "python3"
  },
  "language_info": {
   "codemirror_mode": {
    "name": "ipython",
    "version": 3
   },
   "file_extension": ".py",
   "mimetype": "text/x-python",
   "name": "python",
   "nbconvert_exporter": "python",
   "pygments_lexer": "ipython3",
   "version": "3.9.12"
  }
 },
 "nbformat": 4,
 "nbformat_minor": 5
}
